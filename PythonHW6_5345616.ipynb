{
 "cells": [
  {
   "cell_type": "markdown",
   "metadata": {},
   "source": [
    "# Python Homework 6\n",
    "\n",
    "**Release date:** Monday, Feb 24th <br>\n",
    "**Due date:** Friday, __Mar 6th__, 11:59 p.m. via GauchoSpace\n",
    "\n",
    "**Instruction:** Please upload your file on GauchoSpace with filename \"PythonHW6_YOURPERMNUMBER\"; a pdf or html file."
   ]
  },
  {
   "cell_type": "markdown",
   "metadata": {},
   "source": [
    "__Background:__ In mathematical finance, Markov chains are used to model the default risk of a company or country (more specifically, the default of a company's or country's liability like a corporate or government bond - see e.g. PSTAT 171 and PSTAT 170). \n",
    "\n",
    "Rating agencies (like <i>Standard & Poor’s</i>, <i>Moody’s</i>, <i>Fitch</i>) rate the financial stability of a company and classify them according to different classes. A possible classification may range from 'AAA' for debitors with a very good credit rating to 'CCC' for debitors which are very likely to delay in paying a debt; and 'D' for those debitors which can't satisfy their financial liabilities anymore (in other words, they are default). \n",
    "\n",
    "The yearly credit rating of a company can be modeled as a Markov chain $(X_n)_{n=0,1,2,\\ldots}$ with state space\n",
    "\n",
    "$$ \\mathcal{S} = \\{ AAA,\\, AA,\\, A,\\, BBB,\\, BB,\\, B,\\, CCC,\\, D \\} $$\n",
    "\n",
    "where $X_n$ represents the credit rating class of a company in the $n$-th year. The transition probabilities are given by\n",
    "\n",
    "\\begin{equation*}\n",
    "\\begin{array}{ccccccccc}\n",
    " & AAA & AA & A & BBB & BB & B & CCC & D \\\\\n",
    " AAA & 92.07 & 7.09 & 0.63 & 0.15 & 0.06 & 0.00 & 0.00 & 0.00 \\\\ \n",
    " AA & 0.62 & 90.84 & 7.76 & 0.59 & 0.06 & 0.10 & 0.02 & 0.01 \\\\\n",
    " A & 0.05 & 2.09 & 91.38 & 5.79 & 0.44 & 0.16 & 0.04 & 0.05 \\\\\n",
    " BBB & 0.03 & 0.21 & 4.10 & 89.37 & 4.82 & 0.86 & 0.24 & 0.37 \\\\\n",
    " BB & 0.03 & 0.08 & 0.40 & 5.54 & 83.24 & 8.15 & 1.11 & 1.45 \\\\\n",
    " B & 0.00 & 0.08 & 0.27 & 0.34 & 5.39 & 82.41 & 4.92 & 6.59 \\\\\n",
    " CCC & 0.10 & 0.00 & 0.29 & 0.58 & 1.55 & 10.54 & 52.80 & 34.14 \\\\\n",
    " D & 0.00 & 0.00 & 0.00 & 0.00 & 0.00 & 0.00 & 0.00 & 100.0\n",
    "\\end{array} \n",
    "\\end{equation*}\n",
    "\n",
    "<i>Remark</i>: For your implementations below, you can label the different states from $0$ to $7$, where $0$ represents state $AAA$, $1$ represents state $AA$, and so on."
   ]
  },
  {
   "cell_type": "markdown",
   "metadata": {},
   "source": [
    "As usual, we start with loading some packages:"
   ]
  },
  {
   "cell_type": "code",
   "execution_count": 1,
   "metadata": {},
   "outputs": [],
   "source": [
    "import numpy as np\n",
    "import math\n",
    "import matplotlib.pyplot as plt"
   ]
  },
  {
   "cell_type": "markdown",
   "metadata": {},
   "source": [
    "## Problem 1 (3 points)\n",
    "\n",
    "1. Implement the transition probability matrix $P$ from above as a two dimensional <tt>numpy.array()</tt>."
   ]
  },
  {
   "cell_type": "code",
   "execution_count": 5,
   "metadata": {},
   "outputs": [
    {
     "data": {
      "text/plain": [
       "array([[9.207e+01, 7.090e+00, 6.300e-01, 1.500e-01, 6.000e-02, 0.000e+00,\n",
       "        0.000e+00, 0.000e+00],\n",
       "       [6.200e-01, 9.084e+01, 7.760e+00, 5.900e-01, 6.000e-02, 1.000e-01,\n",
       "        2.000e-02, 1.000e-02],\n",
       "       [5.000e-02, 2.090e+00, 9.138e+01, 5.790e+00, 4.400e-01, 1.600e-01,\n",
       "        4.000e-02, 5.000e-02],\n",
       "       [3.000e-02, 2.100e-01, 4.100e+00, 8.937e+01, 4.820e+00, 8.600e-01,\n",
       "        2.400e-01, 3.700e-01],\n",
       "       [3.000e-02, 8.000e-02, 4.000e-01, 5.540e+00, 8.324e+01, 8.150e+00,\n",
       "        1.110e+00, 1.450e+00],\n",
       "       [0.000e+00, 8.000e-02, 2.700e-01, 3.400e-01, 5.390e+00, 8.241e+01,\n",
       "        4.920e+00, 6.590e+00],\n",
       "       [1.000e-01, 0.000e+00, 2.900e-01, 5.800e-01, 1.550e+00, 1.054e+01,\n",
       "        5.280e+01, 3.414e+01],\n",
       "       [0.000e+00, 0.000e+00, 0.000e+00, 0.000e+00, 0.000e+00, 0.000e+00,\n",
       "        0.000e+00, 1.000e+02]])"
      ]
     },
     "execution_count": 5,
     "metadata": {},
     "output_type": "execute_result"
    }
   ],
   "source": [
    "# WRITE YOUR OWN CODE HERE! \n",
    "transMatrix = np.array([[92.07,7.09,0.63,0.15,0.06,0.0,0.0,0.0], \n",
    "                       [0.62,90.84,7.76,0.59,0.06, 0.10, 0.02, 0.01],\n",
    "                       [0.05, 2.09, 91.38, 5.79, 0.44, 0.16, 0.04, 0.05],\n",
    "                       [0.03, 0.21, 4.10, 89.37, 4.82, 0.86, 0.24, 0.37],\n",
    "                       [0.03, 0.08, 0.40, 5.54, 83.24, 8.15, 1.11, 1.45],\n",
    "                       [0.0, 0.08, 0.27, 0.34, 5.39, 82.41, 4.92, 6.59],\n",
    "                       [0.1, 0.0, 0.29, 0.58, 1.55, 10.54, 52.80, 34.14],\n",
    "                       [0.0, 0.0, 0.0, 0.0, 0.0, 0.0, 0.0, 100.0]])\n",
    "transMatrix"
   ]
  },
  {
   "cell_type": "markdown",
   "metadata": {},
   "source": [
    "2. Provide the probability vector for the transition probabilities from state 3 to all other states 0, 1, 2,..., 7"
   ]
  },
  {
   "cell_type": "code",
   "execution_count": 6,
   "metadata": {},
   "outputs": [
    {
     "data": {
      "text/plain": [
       "array([3.000e-02, 2.100e-01, 4.100e+00, 8.937e+01, 4.820e+00, 8.600e-01,\n",
       "       2.400e-01, 3.700e-01])"
      ]
     },
     "execution_count": 6,
     "metadata": {},
     "output_type": "execute_result"
    }
   ],
   "source": [
    "# WRITE YOUR OWN CODE HERE! \n",
    "state3trans = transMatrix[3]\n",
    "state3trans"
   ]
  },
  {
   "cell_type": "markdown",
   "metadata": {},
   "source": [
    "3. Use suitable Matrix operations to <u>compute the probability</u> that a company which is rated with 'AAA' today will <u>not</u> default during the next 8 years. "
   ]
  },
  {
   "cell_type": "code",
   "execution_count": 7,
   "metadata": {},
   "outputs": [
    {
     "data": {
      "text/plain": [
       "1.0"
      ]
     },
     "execution_count": 7,
     "metadata": {},
     "output_type": "execute_result"
    }
   ],
   "source": [
    "# WRITE YOUR OWN CODE HERE! \n",
    "\n",
    "## HINT: YOU MAY WANT TO USE np.linalg.matrix_power() TO COMPUTE POWERS OF A MATRIX\n",
    "prob = 1\n",
    "i = 1\n",
    "while i <=8:\n",
    "    nextYear = np.linalg.matrix_power(transMatrix, i)\n",
    "    prob = prob*(1 - transMatrix[0][7]/100)\n",
    "    i += 1\n",
    "prob"
   ]
  },
  {
   "cell_type": "markdown",
   "metadata": {},
   "source": [
    "## Problem 2 (4 points)\n",
    "\n",
    "Write a function called <tt>simulateRating(...)</tt> which simulates the Markov chain. \n",
    "\n",
    "Input:\n",
    "* <tt>startRating</tt>: Initial state of the Markov chain at time 0\n",
    "* <tt>numberOfSteps</tt>: Number of steps $n$\n",
    "* <tt>P</tt>: Transition matrix\n",
    "\n",
    "Output:\n",
    "* <tt>samplePath</tt>: An array of length $n$ with the values $X_0, X_1, \\ldots, X_n$."
   ]
  },
  {
   "cell_type": "code",
   "execution_count": 10,
   "metadata": {},
   "outputs": [],
   "source": [
    "   ## WRITE YOUR OWN CODE HERE\n",
    "   ## HINT: USE np.random.choice()\n",
    "def simulateRating(startRating, numberOfSteps, P):\n",
    "    samplePath = [startRating]\n",
    "    currentState = startRating\n",
    "    stateSpace = list(range(P.shape[0]))\n",
    "    nextState = 0\n",
    "    for i in range(numberOfSteps):\n",
    "        nextState = np.random.choice(stateSpace, p = P[currentState]/100)\n",
    "        currentState = nextState\n",
    "        samplePath.append(currentState)\n",
    "    return samplePath"
   ]
  },
  {
   "cell_type": "code",
   "execution_count": 11,
   "metadata": {},
   "outputs": [
    {
     "data": {
      "text/plain": [
       "[0, 0, 0, 0, 0, 1, 1, 1, 1, 1, 1]"
      ]
     },
     "execution_count": 11,
     "metadata": {},
     "output_type": "execute_result"
    }
   ],
   "source": [
    "## TEST YOUR FUNCTION HERE\n",
    "simulateRating( startRating = 0, numberOfSteps = 10, P = transMatrix)"
   ]
  },
  {
   "cell_type": "markdown",
   "metadata": {},
   "source": [
    "## Problem 3 (3 points)\n",
    "\n",
    "Write a code to simulate and plot <tt>numPaths = 5</tt> simulated paths of length <tt>lengthPath = 100</tt> with staring value <tt>startRating = 2</tt> in one plot."
   ]
  },
  {
   "cell_type": "code",
   "execution_count": 12,
   "metadata": {},
   "outputs": [],
   "source": [
    "# WRITE YOUR OWN CODE HERE! FEEL FREE TO INSERT MORE CELLS!\n",
    "# ADD SOME COMMENTS TO YOUR CODE!\n",
    "def simPlot(numPaths, lengthPath, startRating):\n",
    "    i = 0\n",
    "    while i < numPaths:\n",
    "        plt.plot(simulateRating(startRating, numberOfSteps = lengthPath, P = transMatrix))\n",
    "        i += 1"
   ]
  },
  {
   "cell_type": "code",
   "execution_count": 13,
   "metadata": {},
   "outputs": [
    {
     "data": {
      "image/png": "[encoded data removed]",
      "text/plain": [
       "<Figure size 720x360 with 1 Axes>"
      ]
     },
     "metadata": {
      "needs_background": "light"
     },
     "output_type": "display_data"
    }
   ],
   "source": [
    "# COMPLETE/MODIFY THE PLOT COMMANDS ACCORDINGLY\n",
    "\n",
    "plt.figure( figsize=( 10, 5 ) )\n",
    "\n",
    "plt.title('Simulated rating paths')\n",
    "\n",
    "plt.ylabel('Credit Ratings')\n",
    "plt.xlabel('Year')\n",
    "simPlot(numPaths = 5, lengthPath = 100, startRating = 2)\n",
    "plt.ylim( -1, 8 )\n",
    "ratings = [ '', 'AAA', 'AA', 'A', 'BBB', 'BB', 'B', 'CCC/C', 'D', '' ]\n",
    "plt.yticks( range( -1, 9 ), ratings )\n",
    "\n",
    "plt.show()"
   ]
  }
 ],
 "metadata": {
  "kernelspec": {
   "display_name": "Python 3",
   "language": "python",
   "name": "python3"
  },
  "language_info": {
   "codemirror_mode": {
    "name": "ipython",
    "version": 3
   },
   "file_extension": ".py",
   "mimetype": "text/x-python",
   "name": "python",
   "nbconvert_exporter": "python",
   "pygments_lexer": "ipython3",
   "version": "3.7.4"
  }
 },
 "nbformat": 4,
 "nbformat_minor": 2
}
