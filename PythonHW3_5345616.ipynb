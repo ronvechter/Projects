{
 "cells": [
  {
   "cell_type": "markdown",
   "metadata": {},
   "source": [
    "# Python Homework 3\n",
    "\n",
    "**Release date:** Friday, October 18 <br>\n",
    "**Due date:** Friday, November 1, 11:59 p.m. via GauchoSpace\n",
    "\n",
    "**Instruction:** Please upload your jupyter notebook on GauchoSpace with filename \"PythonHW3_YOURPERMNUMBER.ipynb\"."
   ]
  },
  {
   "cell_type": "markdown",
   "metadata": {},
   "source": [
    "In this Python Homework you are asked to implement two simulations related to problems discussed in class."
   ]
  },
  {
   "cell_type": "markdown",
   "metadata": {},
   "source": [
    "As usual, start with loading some packages:"
   ]
  },
  {
   "cell_type": "code",
   "execution_count": 2,
   "metadata": {},
   "outputs": [],
   "source": [
    "import numpy as np"
   ]
  },
  {
   "cell_type": "markdown",
   "metadata": {},
   "source": [
    "## Problem 1 (5 Points)\n",
    "\n",
    "Since the beginning of Spring quarter Julie goes every day to Woodstock Pizza, orders a slice of pizza, and picks a topping - pepper, pepperoni, pineapple, prawns, or prosciutto - unifromly at random."
   ]
  },
  {
   "cell_type": "markdown",
   "metadata": {},
   "source": [
    "1. Implement a simulator which uniformly samples from one topping:"
   ]
  },
  {
   "cell_type": "code",
   "execution_count": 3,
   "metadata": {},
   "outputs": [
    {
     "name": "stdout",
     "output_type": "stream",
     "text": [
      "['pepperoni']\n"
     ]
    }
   ],
   "source": [
    "toppings = ('pepper', 'pepperoni', 'pineapple', 'prawns', 'prosciutto')\n",
    "n = 1\n",
    "p = (0.2,0.2,0.2,0.2,0.2)\n",
    "sample = np.random.choice(toppings, n, p)\n",
    "\n",
    "print(sample)\n",
    "\n",
    "# This is a simulation of a uniform sample of one topping, with equal probabilities"
   ]
  },
  {
   "cell_type": "markdown",
   "metadata": {},
   "source": [
    "2. On the day that Julie first picks pineapple, find the empricial mean of the number of prior days in which she picked pepperoni by running 10000 simulations."
   ]
  },
  {
   "cell_type": "code",
   "execution_count": 4,
   "metadata": {},
   "outputs": [
    {
     "name": "stdout",
     "output_type": "stream",
     "text": [
      "1.0023\n"
     ]
    }
   ],
   "source": [
    "# Run 10000 simulations\n",
    "# Starting from today, Julie randomly picks a topping\n",
    "# As time goes on, she keeps randomly picking a topping\n",
    "# We need to find the number of pepperoni picked until she first picks pineapple.\n",
    "\n",
    "count = np.zeros(10000)\n",
    "\n",
    "for i in range(10000):\n",
    "    \n",
    "        while True:\n",
    "            \n",
    "            TheTopping = np.random.choice(toppings, n, p)\n",
    "            \n",
    "            if TheTopping == 'pineapple':\n",
    "                break\n",
    "            \n",
    "            if TheTopping == 'pepperoni':\n",
    "                count[i] += 1\n",
    "                \n",
    "print(np.mean(count))\n",
    "\n",
    "# The while loop will break when pineapple is chosen.\n",
    "# When the while loop breaks, it will replace all the pepperoni in the array count and change the zeros to ones.\n",
    "# Then we take the mean of the new array count, where each pepperoni occurred."
   ]
  },
  {
   "cell_type": "markdown",
   "metadata": {},
   "source": [
    "## Problem 2 (5 Points)\n",
    "\n",
    "Recall Problem 3.3:\n",
    "\n",
    "A health insurance will pay for a medical expense subject to a USD 100 deductible. Assume that the amount of the expense is exponentially distributed with mean USD 500.\n",
    "\n",
    "Compute the empirical mean and emprical standard deviation of the payout by the insurance company by using 100000 samples."
   ]
  },
  {
   "cell_type": "code",
   "execution_count": 5,
   "metadata": {},
   "outputs": [
    {
     "data": {
      "text/plain": [
       "499.3332064816719"
      ]
     },
     "execution_count": 5,
     "metadata": {},
     "output_type": "execute_result"
    }
   ],
   "source": [
    "# Exponential Distribution\n",
    "# Payout includes the $100 deductible\n",
    "\n",
    "np.random.seed(1)\n",
    "x = np.random.exponential(500,100000)\n",
    "payout = x[[n > 100 for n in range(0,100000)]]\n",
    "\n",
    "emean = np.mean(payout)\n",
    "emean\n",
    "#empirical mean of payout\n",
    "\n",
    "estd = np.std(payout)\n",
    "estd\n",
    "#empirical standard deviation of payout\n",
    "\n",
    "# exponential distributions have expected value = lambda and standard deviation = lambda."
   ]
  }
 ],
 "metadata": {
  "kernelspec": {
   "display_name": "Python 3",
   "language": "python",
   "name": "python3"
  },
  "language_info": {
   "codemirror_mode": {
    "name": "ipython",
    "version": 3
   },
   "file_extension": ".py",
   "mimetype": "text/x-python",
   "name": "python",
   "nbconvert_exporter": "python",
   "pygments_lexer": "ipython3",
   "version": "3.7.3"
  }
 },
 "nbformat": 4,
 "nbformat_minor": 2
}
