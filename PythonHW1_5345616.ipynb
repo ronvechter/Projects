{
 "cells": [
  {
   "cell_type": "markdown",
   "metadata": {},
   "source": [
    "# Python Homework 1"
   ]
  },
  {
   "cell_type": "markdown",
   "metadata": {},
   "source": [
    "**release date:** Friday 10/4/2019"
   ]
  },
  {
   "cell_type": "markdown",
   "metadata": {},
   "source": [
    "**due date:** Friday 10/18/2019"
   ]
  },
  {
   "cell_type": "markdown",
   "metadata": {},
   "source": [
    "**Instruction:** Please upload your jupyter notebook on GauchoSpace with filename \\\"PythonHW1_YOURPERMNUMBER.ipynb\\\"."
   ]
  },
  {
   "cell_type": "markdown",
   "metadata": {},
   "source": [
    "The purpose of this Python Homework is to get a little bit familiar with the sampling from a distribution with the __NumPy Package__."
   ]
  },
  {
   "cell_type": "markdown",
   "metadata": {},
   "source": [
    "_Attention:_ Don't forget to import the necessary packages!"
   ]
  },
  {
   "cell_type": "markdown",
   "metadata": {},
   "source": [
    "## **Problem 1** (6 points)"
   ]
  },
  {
   "cell_type": "markdown",
   "metadata": {},
   "source": [
    "1. Simulate 100,000 realizations from the binomial distribution with $N$=1000 trails and success probability $p$=0.3."
   ]
  },
  {
   "cell_type": "code",
   "execution_count": 28,
   "metadata": {},
   "outputs": [
    {
     "name": "stdout",
     "output_type": "stream",
     "text": [
      "[299 310 309 ... 299 282 306]\n"
     ]
    }
   ],
   "source": [
    "import numpy\n",
    "numpy.random\n",
    "# import the necessary packages\n",
    "\n",
    "samples = numpy.random.binomial(1000, 0.3, [100000])\n",
    "print(samples)\n",
    "# collect a random sample simulation from the binomial distribution with 1000 trials and success probability 0.3"
   ]
  },
  {
   "cell_type": "markdown",
   "metadata": {},
   "source": [
    "2. Compute the empirical mean and the empricial standard deviation of your sample and compare these values with the theoretical values."
   ]
  },
  {
   "cell_type": "code",
   "execution_count": 18,
   "metadata": {},
   "outputs": [
    {
     "name": "stdout",
     "output_type": "stream",
     "text": [
      "299.95335\n",
      "14.47307616844118\n"
     ]
    }
   ],
   "source": [
    "# empirical mean\n",
    "print(numpy.mean(samples))\n",
    "\n",
    "#empirical standard deviation\n",
    "print(numpy.std(samples))\n",
    "\n",
    "# The theoretical mean, np = 300. \n",
    "# The theoretical standard deviation, np(1-p) = 14.49.\n",
    "# The empirical mean is 299.95 which is equivalent to the theoretical mean.\n",
    "# The empirical standard deviation is 14.47 which is equivalent to the theoretical standard deviation."
   ]
  },
  {
   "cell_type": "markdown",
   "metadata": {},
   "source": [
    "3. Plot a histogram of your sample with the absolute number of counts for each bin. Choose 25 bins."
   ]
  },
  {
   "cell_type": "code",
   "execution_count": 22,
   "metadata": {},
   "outputs": [
    {
     "data": {
      "text/plain": [
       "(array([5.0000e+00, 1.5000e+01, 5.5000e+01, 1.6600e+02, 4.2100e+02,\n",
       "        1.0560e+03, 2.1400e+03, 3.8730e+03, 6.4090e+03, 9.3340e+03,\n",
       "        1.1986e+04, 1.3642e+04, 1.3443e+04, 1.2085e+04, 9.6770e+03,\n",
       "        6.8520e+03, 4.2040e+03, 2.4790e+03, 1.2270e+03, 5.8000e+02,\n",
       "        2.2400e+02, 8.3000e+01, 3.4000e+01, 7.0000e+00, 3.0000e+00]),\n",
       " array([239.  , 244.04, 249.08, 254.12, 259.16, 264.2 , 269.24, 274.28,\n",
       "        279.32, 284.36, 289.4 , 294.44, 299.48, 304.52, 309.56, 314.6 ,\n",
       "        319.64, 324.68, 329.72, 334.76, 339.8 , 344.84, 349.88, 354.92,\n",
       "        359.96, 365.  ]),\n",
       " <a list of 25 Patch objects>)"
      ]
     },
     "execution_count": 22,
     "metadata": {},
     "output_type": "execute_result"
    },
    {
     "data": {
      "image/png": "[encoded data removed]",
      "text/plain": [
       "<Figure size 432x288 with 1 Axes>"
      ]
     },
     "metadata": {
      "needs_background": "light"
     },
     "output_type": "display_data"
    }
   ],
   "source": [
    "import matplotlib\n",
    "from matplotlib import pyplot\n",
    "\n",
    "# first we import the necessary packages\n",
    "\n",
    "\n",
    "pyplot.hist(samples, 25, density = False)\n",
    "\n",
    "# then we plot the histogram with 25 bins and no density argument"
   ]
  },
  {
   "cell_type": "markdown",
   "metadata": {},
   "source": [
    "4. Standardize your sample, that is, subtract the emprical mean and divide by the empricial standard deviation."
   ]
  },
  {
   "cell_type": "code",
   "execution_count": 24,
   "metadata": {},
   "outputs": [
    {
     "name": "stdout",
     "output_type": "stream",
     "text": [
      "0.003223226317410037\n"
     ]
    }
   ],
   "source": [
    "z = (300 - 299.95335)/14.47307616844118\n",
    "print(z)\n",
    "\n",
    "# The z-value is 0.003223"
   ]
  },
  {
   "cell_type": "markdown",
   "metadata": {},
   "source": [
    "5. Plot a histogram of your standardized sample with the counts normalized to form a probability density. Choose again 25 bins. Compare your histrogram with the density of the standard normal distribution by inserting its density into the histogram plot."
   ]
  },
  {
   "cell_type": "code",
   "execution_count": 29,
   "metadata": {},
   "outputs": [
    {
     "data": {
      "image/png": "[encoded data removed]",
      "text/plain": [
       "<Figure size 432x288 with 1 Axes>"
      ]
     },
     "metadata": {
      "needs_background": "light"
     },
     "output_type": "display_data"
    }
   ],
   "source": [
    "from scipy.stats import norm\n",
    "# first we import the necessary packages\n",
    "\n",
    "count, bins, ignored = pyplot.hist(samples, 25, density=True)\n",
    "# then we create the histogram\n",
    "\n",
    "pyplot.plot(bins, norm.pdf(bins,1000,0.3), linewidth=2, color='r')\n",
    "pyplot.show()\n",
    "# then we plot the histogram with the counts normalized to form a probability density"
   ]
  },
  {
   "cell_type": "markdown",
   "metadata": {},
   "source": [
    "## **Problem 2** (4 points)"
   ]
  },
  {
   "cell_type": "markdown",
   "metadata": {},
   "source": [
    "1. Implement the simulation of a biased 6-sided die which takes the values 1,2,3,4,5,6 with probabilities 1/8,1/12,1/8,1/12,1/12,1/2."
   ]
  },
  {
   "cell_type": "code",
   "execution_count": 30,
   "metadata": {},
   "outputs": [
    {
     "name": "stdout",
     "output_type": "stream",
     "text": [
      "[3 2 3 ... 5 2 6]\n"
     ]
    }
   ],
   "source": [
    "# simulation of a biased, 6-sided die with values 1 through 6\n",
    "values = [1, 2, 3, 4, 5, 6]\n",
    "prob = [1.0/8.0, 1.0/12.0, 1.0/8.0, 1.0/12.0, 1.0/12.0, 1.0/2.0]\n",
    "\n",
    "# randomly select rolls with their respective probabilities\n",
    "rolls = numpy.random.choice(values, 1000000, p=prob)\n",
    "print(rolls)\n",
    "# print the outcome"
   ]
  },
  {
   "cell_type": "markdown",
   "metadata": {},
   "source": [
    "2. Plot a histrogram with 1,000,000 simulations to check if the relative counts of each number is approximately equal to the corresponding specified probabilities."
   ]
  },
  {
   "cell_type": "code",
   "execution_count": 31,
   "metadata": {},
   "outputs": [
    {
     "data": {
      "image/png": "[encoded data removed]",
      "text/plain": [
       "<Figure size 432x288 with 1 Axes>"
      ]
     },
     "metadata": {
      "needs_background": "light"
     },
     "output_type": "display_data"
    }
   ],
   "source": [
    "pyplot.hist(rolls, 10, density = False)\n",
    "# creates a histogram \n",
    "\n",
    "pyplot.show()\n",
    "# projects the histogram and shows it to user"
   ]
  }
 ],
 "metadata": {
  "kernelspec": {
   "display_name": "Python 3",
   "language": "python",
   "name": "python3"
  },
  "language_info": {
   "codemirror_mode": {
    "name": "ipython",
    "version": 3
   },
   "file_extension": ".py",
   "mimetype": "text/x-python",
   "name": "python",
   "nbconvert_exporter": "python",
   "pygments_lexer": "ipython3",
   "version": "3.7.3"
  }
 },
 "nbformat": 4,
 "nbformat_minor": 4
}
